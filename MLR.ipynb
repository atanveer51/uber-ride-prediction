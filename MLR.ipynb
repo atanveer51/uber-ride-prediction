{
 "cells": [
  {
   "cell_type": "code",
   "execution_count": 3,
   "metadata": {},
   "outputs": [],
   "source": [
    "import numpy as np\n",
    "import pandas as pd"
   ]
  },
  {
   "cell_type": "code",
   "execution_count": 5,
   "metadata": {},
   "outputs": [],
   "source": [
    "data=pd.read_csv(\"taxi.csv\")"
   ]
  },
  {
   "cell_type": "code",
   "execution_count": 6,
   "metadata": {},
   "outputs": [
    {
     "data": {
      "text/html": [
       "<div>\n",
       "<style scoped>\n",
       "    .dataframe tbody tr th:only-of-type {\n",
       "        vertical-align: middle;\n",
       "    }\n",
       "\n",
       "    .dataframe tbody tr th {\n",
       "        vertical-align: top;\n",
       "    }\n",
       "\n",
       "    .dataframe thead th {\n",
       "        text-align: right;\n",
       "    }\n",
       "</style>\n",
       "<table border=\"1\" class=\"dataframe\">\n",
       "  <thead>\n",
       "    <tr style=\"text-align: right;\">\n",
       "      <th></th>\n",
       "      <th>Priceperweek</th>\n",
       "      <th>Population</th>\n",
       "      <th>Monthlyincome</th>\n",
       "      <th>Averageparkingpermonth</th>\n",
       "      <th>Numberofweeklyriders</th>\n",
       "    </tr>\n",
       "  </thead>\n",
       "  <tbody>\n",
       "    <tr>\n",
       "      <td>0</td>\n",
       "      <td>15</td>\n",
       "      <td>1800000</td>\n",
       "      <td>5800</td>\n",
       "      <td>50</td>\n",
       "      <td>192000</td>\n",
       "    </tr>\n",
       "    <tr>\n",
       "      <td>1</td>\n",
       "      <td>15</td>\n",
       "      <td>1790000</td>\n",
       "      <td>6200</td>\n",
       "      <td>50</td>\n",
       "      <td>190400</td>\n",
       "    </tr>\n",
       "    <tr>\n",
       "      <td>2</td>\n",
       "      <td>15</td>\n",
       "      <td>1780000</td>\n",
       "      <td>6400</td>\n",
       "      <td>60</td>\n",
       "      <td>191200</td>\n",
       "    </tr>\n",
       "    <tr>\n",
       "      <td>3</td>\n",
       "      <td>25</td>\n",
       "      <td>1778000</td>\n",
       "      <td>6500</td>\n",
       "      <td>60</td>\n",
       "      <td>177600</td>\n",
       "    </tr>\n",
       "    <tr>\n",
       "      <td>4</td>\n",
       "      <td>25</td>\n",
       "      <td>1750000</td>\n",
       "      <td>6550</td>\n",
       "      <td>60</td>\n",
       "      <td>176800</td>\n",
       "    </tr>\n",
       "    <tr>\n",
       "      <td>5</td>\n",
       "      <td>25</td>\n",
       "      <td>1740000</td>\n",
       "      <td>6580</td>\n",
       "      <td>70</td>\n",
       "      <td>178400</td>\n",
       "    </tr>\n",
       "    <tr>\n",
       "      <td>6</td>\n",
       "      <td>25</td>\n",
       "      <td>1725000</td>\n",
       "      <td>8200</td>\n",
       "      <td>75</td>\n",
       "      <td>180800</td>\n",
       "    </tr>\n",
       "    <tr>\n",
       "      <td>7</td>\n",
       "      <td>30</td>\n",
       "      <td>1725000</td>\n",
       "      <td>8600</td>\n",
       "      <td>75</td>\n",
       "      <td>175200</td>\n",
       "    </tr>\n",
       "    <tr>\n",
       "      <td>8</td>\n",
       "      <td>30</td>\n",
       "      <td>1720000</td>\n",
       "      <td>8800</td>\n",
       "      <td>75</td>\n",
       "      <td>174400</td>\n",
       "    </tr>\n",
       "    <tr>\n",
       "      <td>9</td>\n",
       "      <td>30</td>\n",
       "      <td>1705000</td>\n",
       "      <td>9200</td>\n",
       "      <td>80</td>\n",
       "      <td>173920</td>\n",
       "    </tr>\n",
       "    <tr>\n",
       "      <td>10</td>\n",
       "      <td>30</td>\n",
       "      <td>1710000</td>\n",
       "      <td>9630</td>\n",
       "      <td>80</td>\n",
       "      <td>172800</td>\n",
       "    </tr>\n",
       "    <tr>\n",
       "      <td>11</td>\n",
       "      <td>40</td>\n",
       "      <td>1700000</td>\n",
       "      <td>10570</td>\n",
       "      <td>80</td>\n",
       "      <td>163200</td>\n",
       "    </tr>\n",
       "    <tr>\n",
       "      <td>12</td>\n",
       "      <td>40</td>\n",
       "      <td>1695000</td>\n",
       "      <td>11330</td>\n",
       "      <td>85</td>\n",
       "      <td>161600</td>\n",
       "    </tr>\n",
       "    <tr>\n",
       "      <td>13</td>\n",
       "      <td>40</td>\n",
       "      <td>1695000</td>\n",
       "      <td>11600</td>\n",
       "      <td>100</td>\n",
       "      <td>161600</td>\n",
       "    </tr>\n",
       "    <tr>\n",
       "      <td>14</td>\n",
       "      <td>40</td>\n",
       "      <td>1690000</td>\n",
       "      <td>11800</td>\n",
       "      <td>105</td>\n",
       "      <td>160800</td>\n",
       "    </tr>\n",
       "    <tr>\n",
       "      <td>15</td>\n",
       "      <td>40</td>\n",
       "      <td>1630000</td>\n",
       "      <td>11830</td>\n",
       "      <td>105</td>\n",
       "      <td>159200</td>\n",
       "    </tr>\n",
       "    <tr>\n",
       "      <td>16</td>\n",
       "      <td>65</td>\n",
       "      <td>1640000</td>\n",
       "      <td>12650</td>\n",
       "      <td>105</td>\n",
       "      <td>148800</td>\n",
       "    </tr>\n",
       "    <tr>\n",
       "      <td>17</td>\n",
       "      <td>102</td>\n",
       "      <td>1635000</td>\n",
       "      <td>13000</td>\n",
       "      <td>110</td>\n",
       "      <td>115696</td>\n",
       "    </tr>\n",
       "    <tr>\n",
       "      <td>18</td>\n",
       "      <td>75</td>\n",
       "      <td>1630000</td>\n",
       "      <td>13224</td>\n",
       "      <td>125</td>\n",
       "      <td>147200</td>\n",
       "    </tr>\n",
       "    <tr>\n",
       "      <td>19</td>\n",
       "      <td>75</td>\n",
       "      <td>1620000</td>\n",
       "      <td>13766</td>\n",
       "      <td>130</td>\n",
       "      <td>150400</td>\n",
       "    </tr>\n",
       "    <tr>\n",
       "      <td>20</td>\n",
       "      <td>75</td>\n",
       "      <td>1615000</td>\n",
       "      <td>14010</td>\n",
       "      <td>150</td>\n",
       "      <td>152000</td>\n",
       "    </tr>\n",
       "    <tr>\n",
       "      <td>21</td>\n",
       "      <td>80</td>\n",
       "      <td>1605000</td>\n",
       "      <td>14468</td>\n",
       "      <td>155</td>\n",
       "      <td>136000</td>\n",
       "    </tr>\n",
       "    <tr>\n",
       "      <td>22</td>\n",
       "      <td>86</td>\n",
       "      <td>1590000</td>\n",
       "      <td>15000</td>\n",
       "      <td>165</td>\n",
       "      <td>126240</td>\n",
       "    </tr>\n",
       "    <tr>\n",
       "      <td>23</td>\n",
       "      <td>98</td>\n",
       "      <td>1595000</td>\n",
       "      <td>15200</td>\n",
       "      <td>175</td>\n",
       "      <td>123888</td>\n",
       "    </tr>\n",
       "    <tr>\n",
       "      <td>24</td>\n",
       "      <td>87</td>\n",
       "      <td>1590000</td>\n",
       "      <td>15600</td>\n",
       "      <td>175</td>\n",
       "      <td>126080</td>\n",
       "    </tr>\n",
       "    <tr>\n",
       "      <td>25</td>\n",
       "      <td>77</td>\n",
       "      <td>1600000</td>\n",
       "      <td>16000</td>\n",
       "      <td>190</td>\n",
       "      <td>151680</td>\n",
       "    </tr>\n",
       "    <tr>\n",
       "      <td>26</td>\n",
       "      <td>63</td>\n",
       "      <td>1610000</td>\n",
       "      <td>16200</td>\n",
       "      <td>200</td>\n",
       "      <td>152800</td>\n",
       "    </tr>\n",
       "  </tbody>\n",
       "</table>\n",
       "</div>"
      ],
      "text/plain": [
       "    Priceperweek  Population  Monthlyincome  Averageparkingpermonth  \\\n",
       "0             15     1800000           5800                      50   \n",
       "1             15     1790000           6200                      50   \n",
       "2             15     1780000           6400                      60   \n",
       "3             25     1778000           6500                      60   \n",
       "4             25     1750000           6550                      60   \n",
       "5             25     1740000           6580                      70   \n",
       "6             25     1725000           8200                      75   \n",
       "7             30     1725000           8600                      75   \n",
       "8             30     1720000           8800                      75   \n",
       "9             30     1705000           9200                      80   \n",
       "10            30     1710000           9630                      80   \n",
       "11            40     1700000          10570                      80   \n",
       "12            40     1695000          11330                      85   \n",
       "13            40     1695000          11600                     100   \n",
       "14            40     1690000          11800                     105   \n",
       "15            40     1630000          11830                     105   \n",
       "16            65     1640000          12650                     105   \n",
       "17           102     1635000          13000                     110   \n",
       "18            75     1630000          13224                     125   \n",
       "19            75     1620000          13766                     130   \n",
       "20            75     1615000          14010                     150   \n",
       "21            80     1605000          14468                     155   \n",
       "22            86     1590000          15000                     165   \n",
       "23            98     1595000          15200                     175   \n",
       "24            87     1590000          15600                     175   \n",
       "25            77     1600000          16000                     190   \n",
       "26            63     1610000          16200                     200   \n",
       "\n",
       "    Numberofweeklyriders  \n",
       "0                 192000  \n",
       "1                 190400  \n",
       "2                 191200  \n",
       "3                 177600  \n",
       "4                 176800  \n",
       "5                 178400  \n",
       "6                 180800  \n",
       "7                 175200  \n",
       "8                 174400  \n",
       "9                 173920  \n",
       "10                172800  \n",
       "11                163200  \n",
       "12                161600  \n",
       "13                161600  \n",
       "14                160800  \n",
       "15                159200  \n",
       "16                148800  \n",
       "17                115696  \n",
       "18                147200  \n",
       "19                150400  \n",
       "20                152000  \n",
       "21                136000  \n",
       "22                126240  \n",
       "23                123888  \n",
       "24                126080  \n",
       "25                151680  \n",
       "26                152800  "
      ]
     },
     "execution_count": 6,
     "metadata": {},
     "output_type": "execute_result"
    }
   ],
   "source": [
    "data"
   ]
  },
  {
   "cell_type": "code",
   "execution_count": 19,
   "metadata": {},
   "outputs": [],
   "source": [
    "import pickle\n",
    "import matplotlib.pyplot as plt\n",
    "from sklearn.model_selection import train_test_split\n",
    "from sklearn.linear_model import LinearRegression"
   ]
  },
  {
   "cell_type": "code",
   "execution_count": 9,
   "metadata": {},
   "outputs": [],
   "source": [
    "data_x=data.iloc[:,0:-1].values\n",
    "data_y=data.iloc[:,-1].values"
   ]
  },
  {
   "cell_type": "code",
   "execution_count": 12,
   "metadata": {},
   "outputs": [
    {
     "data": {
      "text/plain": [
       "array([192000, 190400, 191200, 177600, 176800, 178400, 180800, 175200,\n",
       "       174400, 173920, 172800, 163200, 161600, 161600, 160800, 159200,\n",
       "       148800, 115696, 147200, 150400, 152000, 136000, 126240, 123888,\n",
       "       126080, 151680, 152800], dtype=int64)"
      ]
     },
     "execution_count": 12,
     "metadata": {},
     "output_type": "execute_result"
    }
   ],
   "source": [
    "data_y"
   ]
  },
  {
   "cell_type": "code",
   "execution_count": 14,
   "metadata": {},
   "outputs": [],
   "source": [
    "x_train,x_test,y_train,y_test=train_test_split(data_x,data_y,test_size=0.3,random_state=0)"
   ]
  },
  {
   "cell_type": "code",
   "execution_count": 18,
   "metadata": {},
   "outputs": [
    {
     "data": {
      "text/plain": [
       "array([152000, 148800, 190400, 172800, 152800, 151680, 174400, 180800,\n",
       "       176800, 147200, 173920, 175200, 126240, 177600, 192000, 136000,\n",
       "       159200, 161600], dtype=int64)"
      ]
     },
     "execution_count": 18,
     "metadata": {},
     "output_type": "execute_result"
    }
   ],
   "source": [
    "y_train"
   ]
  },
  {
   "cell_type": "code",
   "execution_count": 21,
   "metadata": {},
   "outputs": [
    {
     "data": {
      "text/plain": [
       "LinearRegression(copy_X=True, fit_intercept=True, n_jobs=None, normalize=False)"
      ]
     },
     "execution_count": 21,
     "metadata": {},
     "output_type": "execute_result"
    }
   ],
   "source": [
    "reg=LinearRegression()\n",
    "reg.fit(x_train,y_train)"
   ]
  },
  {
   "cell_type": "code",
   "execution_count": 22,
   "metadata": {},
   "outputs": [
    {
     "data": {
      "text/plain": [
       "0.9157379222488224"
      ]
     },
     "execution_count": 22,
     "metadata": {},
     "output_type": "execute_result"
    }
   ],
   "source": [
    "reg.score(x_test,y_test)"
   ]
  },
  {
   "cell_type": "code",
   "execution_count": 23,
   "metadata": {},
   "outputs": [
    {
     "data": {
      "text/plain": [
       "0.9428364724316814"
      ]
     },
     "execution_count": 23,
     "metadata": {},
     "output_type": "execute_result"
    }
   ],
   "source": [
    "reg.score(x_train,y_train)"
   ]
  },
  {
   "cell_type": "code",
   "execution_count": 24,
   "metadata": {},
   "outputs": [],
   "source": [
    "pickle.dump(reg,open('taxi.pkl','wb')) # create model name taxi.pkl"
   ]
  },
  {
   "cell_type": "code",
   "execution_count": 25,
   "metadata": {},
   "outputs": [],
   "source": [
    "model=pickle.load(open('taxi.pkl','rb'))"
   ]
  },
  {
   "cell_type": "code",
   "execution_count": 27,
   "metadata": {},
   "outputs": [
    {
     "data": {
      "text/plain": [
       "array([153448.45038985])"
      ]
     },
     "execution_count": 27,
     "metadata": {},
     "output_type": "execute_result"
    }
   ],
   "source": [
    "model.predict([[80,1770000,6000,85]])"
   ]
  },
  {
   "cell_type": "code",
   "execution_count": null,
   "metadata": {},
   "outputs": [],
   "source": []
  }
 ],
 "metadata": {
  "kernelspec": {
   "display_name": "Python 3",
   "language": "python",
   "name": "python3"
  },
  "language_info": {
   "codemirror_mode": {
    "name": "ipython",
    "version": 3
   },
   "file_extension": ".py",
   "mimetype": "text/x-python",
   "name": "python",
   "nbconvert_exporter": "python",
   "pygments_lexer": "ipython3",
   "version": "3.7.4"
  }
 },
 "nbformat": 4,
 "nbformat_minor": 2
}
